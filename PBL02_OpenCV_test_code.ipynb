{
 "cells": [
  {
   "cell_type": "markdown",
   "metadata": {},
   "source": [
    "# PBL02_OpenCV_testコード\n",
    "\n",
    "PBL02_不良個所自動検出理解のためのOpenCVのサンプルコード"
   ]
  },
  {
   "cell_type": "markdown",
   "metadata": {},
   "source": [
    "### 1. ライブラリのimport"
   ]
  },
  {
   "cell_type": "code",
   "execution_count": null,
   "metadata": {},
   "outputs": [],
   "source": [
    "import cv2\n",
    "import matplotlib\n",
    "import numpy as np\n",
    "import matplotlib.pyplot as plt"
   ]
  },
  {
   "cell_type": "markdown",
   "metadata": {},
   "source": [
    "### 2. 画像の取り込み"
   ]
  },
  {
   "cell_type": "code",
   "execution_count": null,
   "metadata": {},
   "outputs": [],
   "source": [
    "img = cv2.imread(\"000_resize.jpeg\") #ファイルを挿入\n",
    "\n",
    "#画像はnpのarray形式で読み込まれる\n",
    "print(img)\n",
    "\n",
    "#OepnCVはBGR形式で読み込むがmatplotlibはRGB方式で取り込む必要があるため,BGR形式をRGB形式にconvertして表示させる\n",
    "img = cv2.cvtColor(img,cv2.COLOR_BGR2RGB)\n",
    "plt.imshow(img)"
   ]
  },
  {
   "cell_type": "markdown",
   "metadata": {},
   "source": [
    "### 3. グレースケールへの変換"
   ]
  },
  {
   "cell_type": "code",
   "execution_count": null,
   "metadata": {},
   "outputs": [],
   "source": [
    "img_gray = cv2.cvtColor(img,cv2.COLOR_BGR2GRAY)\n",
    "print(img_gray)\n",
    "plt.imshow(img_gray)"
   ]
  },
  {
   "cell_type": "markdown",
   "metadata": {},
   "source": [
    "### 4. 閾値処理\n",
    "\n",
    "閾値処理を使って基盤部分を黒く,背景部分を白く切り分ける\n",
    "\n",
    "ピクセルの値がある閾値を超えた場合は,画像の各ピクセルを白いピクセルに,超えなかった場合は黒いピクセルに置き換える"
   ]
  },
  {
   "cell_type": "code",
   "execution_count": null,
   "metadata": {},
   "outputs": [],
   "source": [
    "threshold = 110 #数値は試行錯誤で基板と背景が分かれるように適当に置いた\n",
    "retval,img_threshold = cv2.threshold(img_gray,threshold,255,cv2.THRESH_BINARY)\n",
    "plt.imshow(img_threshold)"
   ]
  },
  {
   "cell_type": "markdown",
   "metadata": {},
   "source": [
    "- cv2.thresholdの戻り値について\n",
    "    - retvalとthresholdの2つ\n",
    "        - retvalは閾値の自動検出のための引数.はじめのうちは気にしなくてよさそう\n",
    "        - thresholdは閾値処理されたあとの白黒の二値画像"
   ]
  },
  {
   "cell_type": "markdown",
   "metadata": {},
   "source": [
    "### 5. ガウスぼかしによるノイズ除去"
   ]
  },
  {
   "cell_type": "code",
   "execution_count": null,
   "metadata": {},
   "outputs": [],
   "source": [
    "#元画像\n",
    "plt.imshow(img)\n",
    "\n",
    "#5*5サイズのgaussianでのぼかし\n",
    "img_gauss_5 = cv2.GaussianBlur(img,(5,5),0)\n",
    "plt.imshow(img_gauss_5)\n",
    "\n",
    "#15*15サイズのgaussianでのぼかし\n",
    "img_gauss_15 = cv2.GaussianBlur(img,(15,15),0)\n",
    "plt.imshow(img_gauss_15)"
   ]
  },
  {
   "cell_type": "markdown",
   "metadata": {},
   "source": [
    "### 6. 輪郭の検出"
   ]
  },
  {
   "cell_type": "markdown",
   "metadata": {},
   "source": [
    "グレースケールに変換して,ガウスぼかしで単純化とノイズ除去\n",
    "閾値処理で基板部分と背景を白黒二値画像に変換"
   ]
  },
  {
   "cell_type": "code",
   "execution_count": null,
   "metadata": {},
   "outputs": [],
   "source": [
    "img_gray = cv2.cvtColor(img,cv2.COLOR_BGR2GRAY)\n",
    "img_gauss = cv2.GaussianBlur(img_gray,(5,5),0)\n",
    "\n",
    "threshold = 110\n",
    "retval,img_threshold = cv2.threshold(img_gauss,threshold,255,cv2.THRESH_BINARY)\n",
    "\n",
    "img_binary = cv2.bitwise_not(img_threshold)\n",
    "plt.imshow(img_binary)"
   ]
  },
  {
   "cell_type": "markdown",
   "metadata": {},
   "source": [
    "二値画像を用いた輪郭の検出"
   ]
  },
  {
   "cell_type": "code",
   "execution_count": null,
   "metadata": {},
   "outputs": [],
   "source": [
    "contours, hierarchy = cv2.findContours(img_binary,cv2.RETR_EXTERNAL,cv2.CHAIN_APPROX_SIMPLE)"
   ]
  },
  {
   "cell_type": "markdown",
   "metadata": {},
   "source": [
    "- findContoursの引数について\n",
    "    - RETR_EXTERNAL:輪郭のうち一番外側だけを検出する\n",
    "    - CHAIN_APPROX_SIMPLE:輪郭の冗長な点を削除して必要最小限の点を検出する\n",
    "\n",
    "- findContours の戻り値について\n",
    "    - 今回はcontours, hierarchyの2つ\n",
    "        - contours\tオブジェクトの輪郭座標を保持している配列\n",
    "        - hierarchy\tオブジェクトの階層構造情報を保持している配列"
   ]
  },
  {
   "cell_type": "markdown",
   "metadata": {},
   "source": [
    "検出するサイズの設定\n",
    "- 今回は基板のみが検出できれば良いので検出された領域の大きさのうち,小さいものは取り除く"
   ]
  },
  {
   "cell_type": "code",
   "execution_count": null,
   "metadata": {},
   "outputs": [],
   "source": [
    "min_area = 5000\n",
    "large_contours = [cnt for cnt in contours if cv2.contourArea(cnt) > min_area]\n",
    "print(large_contours)\n",
    "#輪郭データと画像データを重ねて,輪郭部を赤(255,0,0)で色付けする\n",
    "img_contours = np.copy(img)\n",
    "cv2.drawContours(img_contours, large_contours, -1, (255,0,0))\n",
    "\n",
    "# 輪郭で検出された領域が1つしかないことを確認\n",
    "# ここの戻り値が1でなければmin_areaの大きさを変更する\n",
    "print('number of area: %d' % len(large_contours))\n",
    "plt.imshow(img_contours)"
   ]
  },
  {
   "cell_type": "markdown",
   "metadata": {},
   "source": [
    "今回の輪郭の検出では基板の影部分が認識されていたり,基板の厚さ部分が検知されていなかったりする.これは今後の課題"
   ]
  },
  {
   "cell_type": "markdown",
   "metadata": {},
   "source": [
    "### 7. 外接矩形の検出\n",
    "輪郭の検出で得られた輪郭データに外接する矩形を作成.これで基板だけを切り抜く前処理ができるはず"
   ]
  },
  {
   "cell_type": "code",
   "execution_count": null,
   "metadata": {},
   "outputs": [],
   "source": [
    "img_bounding = np.copy(img)\n",
    "\n",
    "x, y, w, h = cv2.boundingRect(large_contours[0])\n",
    "cv2.rectangle(img_bounding, (x, y), (x + w, y + h), (255, 0, 0), 1)\n",
    "\n",
    "plt.imshow(img_bounding)"
   ]
  }
 ],
 "metadata": {
  "kernelspec": {
   "display_name": "Python 3",
   "language": "python",
   "name": "python3"
  },
  "language_info": {
   "codemirror_mode": {
    "name": "ipython",
    "version": 3
   },
   "file_extension": ".py",
   "mimetype": "text/x-python",
   "name": "python",
   "nbconvert_exporter": "python",
   "pygments_lexer": "ipython3",
   "version": "3.7.0"
  }
 },
 "nbformat": 4,
 "nbformat_minor": 2
}
